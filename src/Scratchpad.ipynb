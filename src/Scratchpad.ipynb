{
 "cells": [
  {
   "cell_type": "code",
   "execution_count": 108,
   "metadata": {
    "collapsed": false,
    "scrolled": false
   },
   "outputs": [
    {
     "name": "stdout",
     "output_type": "stream",
     "text": [
      "requesting http://musicbrainz.org/ws/2/artist/?query=artist%3ANirvana&fmt=json\n",
      "\n",
      "ARTIST:\n",
      "8\n"
     ]
    }
   ],
   "source": [
    "# To experiment with this code freely you will have to run this code locally.\n",
    "# Take a look at the main() function for an example of how to use the code.\n",
    "# We have provided example json output in the other code editor tabs for you to\n",
    "# look at, but you will not be able to run any queries through our UI.\n",
    "import json\n",
    "import requests\n",
    "import pprint\n",
    "\n",
    "BASE_URL = \"http://musicbrainz.org/ws/2/\"\n",
    "ARTIST_URL = BASE_URL + \"artist/\"\n",
    "\n",
    "# query parameters are given to the requests.get function as a dictionary; this\n",
    "# variable contains some starter parameters.\n",
    "query_type = {  \"simple\": {},\n",
    "                \"atr\": {\"inc\": \"aliases+tags+ratings\"},\n",
    "                \"aliases\": {\"inc\": \"aliases\"},\n",
    "                \"releases\": {\"inc\": \"releases\"}}\n",
    "\n",
    "\n",
    "def query_site(url, params, uid=\"\", fmt=\"json\"):\n",
    "    # This is the main function for making queries to the musicbrainz API.\n",
    "    # A json document should be returned by the query.\n",
    "    params[\"fmt\"] = fmt\n",
    "#     print(params)\n",
    "    r = requests.get(url + uid, params=params)\n",
    "    print(\"requesting {}\".format(r.url))\n",
    "\n",
    "    if r.status_code == requests.codes.ok:\n",
    "        return r.json()\n",
    "    else:\n",
    "        r.raise_for_status()\n",
    "\n",
    "\n",
    "def query_by_name(url, params, name):\n",
    "    # This adds an artist name to the query parameters before making\n",
    "    # an API call to the function above.\n",
    "    params[\"query\"] = \"artist:\" + name\n",
    "#     print(url)\n",
    "    return query_site(url, params)\n",
    "\n",
    "\n",
    "def pretty_print(data, indent=4):\n",
    "    # After we get our output, we can format it to be more readable\n",
    "    # by using this function.\n",
    "    if type(data) == dict:\n",
    "        print(json.dumps(data, indent=indent, sort_keys=True))\n",
    "    else:\n",
    "        print(data)\n",
    "\n",
    "\n",
    "def main():\n",
    "    '''\n",
    "    Modify the function calls and indexing below to answer the questions on\n",
    "    the next quiz. HINT: Note how the output we get from the site is a\n",
    "    multi-level JSON document, so try making print statements to step through\n",
    "    the structure one level at a time or copy the output to a separate output\n",
    "    file.\n",
    "    '''\n",
    "    results = query_by_name(ARTIST_URL, query_type[\"simple\"], \"Nirvana\")\n",
    "#     pprint.pprint(results)\n",
    "#     pretty_print(len(results) / 2)\n",
    "\n",
    "    artist_id = results[\"artists\"][1][\"id\"]\n",
    "    print(\"\\nARTIST:\")\n",
    "    dis = 0\n",
    "    for each in results[\"artists\"]:\n",
    "        try:\n",
    "            if each['disambiguation']:\n",
    "                dis += 1\n",
    "        except KeyError:\n",
    "            pass\n",
    "    print(dis)\n",
    "#     print('\\n\\n\\n')\n",
    "#     for each in results[\"artists\"][7]['aliases']:\n",
    "#         if each['locale'] == 'es':\n",
    "#             print(each['name'])\n",
    "#     artist_data = query_site(ARTIST_URL, query_type[\"releases\"], artist_id)\n",
    "    # releases = artist_data[\"releases\"]\n",
    "    # print \"\\nONE RELEASE:\"\n",
    "    # pretty_print(releases[0], indent=2)\n",
    "    # release_titles = [r[\"title\"] for r in releases]\n",
    "\n",
    "    # print \"\\nALL TITLES:\"\n",
    "    # for t in release_titles:\n",
    "    #     print t\n",
    "\n",
    "\n",
    "if __name__ == '__main__':\n",
    "    main()\n"
   ]
  },
  {
   "cell_type": "code",
   "execution_count": 1,
   "metadata": {
    "collapsed": true
   },
   "outputs": [],
   "source": [
    "import xlrd\n",
    "datafile = '2013_ERCOT_Hourly_Load_Data.xls'"
   ]
  },
  {
   "cell_type": "code",
   "execution_count": 2,
   "metadata": {
    "collapsed": true
   },
   "outputs": [],
   "source": [
    "workbook = xlrd.open_workbook(datafile)"
   ]
  },
  {
   "cell_type": "code",
   "execution_count": 3,
   "metadata": {
    "collapsed": true
   },
   "outputs": [],
   "source": [
    "sheet = workbook.sheet_by_index(0)"
   ]
  },
  {
   "cell_type": "code",
   "execution_count": 54,
   "metadata": {
    "collapsed": false
   },
   "outputs": [],
   "source": [
    "# for row in range(sheet.nrows):\n",
    "#     for col in range(sheet.ncols):\n",
    "#         if row == 1:\n",
    "#             print(sheet.cell_value(row, col), end='\\t')\n",
    "headers = sheet.row_values(0, start_colx=0, end_colx=None)\n",
    "maxValues = []\n",
    "maxTimes = []\n",
    "for colNum in range(1, 10):\n",
    "    maxValues.append(max(sheet.col_values(colNum, start_rowx=1, \n",
    "                                          end_rowx=None)))\n",
    "\n",
    "#     minValues.append(min(sheet.col_values(colNum, start_rowx=1, \n",
    "#                                           end_rowx=None)))\n",
    "#     print(min(sheet.col_values(colNum, start_rowx=1, end_rowx=None)), end='\\n')"
   ]
  },
  {
   "cell_type": "code",
   "execution_count": 55,
   "metadata": {
    "collapsed": false
   },
   "outputs": [
    {
     "name": "stdout",
     "output_type": "stream",
     "text": [
      "('COAST', 18779.025510000003) ('EAST', 2380.1654089999956) ('FAR_WEST', 2281.2722140000024) ('NORTH', 1544.7707140000005) ('NORTH_C', 24415.570226999993) ('SOUTHERN', 5494.157645) ('SOUTH_C', 11433.30491600001) ('WEST', 1862.6137649999998) ('ERCOT', 67595.81819800012)\n"
     ]
    }
   ],
   "source": [
    "# print(maxValues)\n",
    "# print(minValues)\n",
    "print(*zip(headers[1:], maxValues))"
   ]
  },
  {
   "cell_type": "code",
   "execution_count": null,
   "metadata": {
    "collapsed": false
   },
   "outputs": [],
   "source": []
  },
  {
   "cell_type": "code",
   "execution_count": 58,
   "metadata": {
    "collapsed": false
   },
   "outputs": [],
   "source": [
    "times = sheet.col_values(0, start_rowx=1, end_rowx=None)\n",
    "COAST_values = sheet.col_values(1, start_rowx=1, end_rowx=None)"
   ]
  },
  {
   "cell_type": "code",
   "execution_count": 60,
   "metadata": {
    "collapsed": false
   },
   "outputs": [
    {
     "data": {
      "text/plain": [
       "5391"
      ]
     },
     "execution_count": 60,
     "metadata": {},
     "output_type": "execute_result"
    }
   ],
   "source": [
    "COAST_values.index(maxValues[0])\n",
    "    "
   ]
  },
  {
   "cell_type": "code",
   "execution_count": 74,
   "metadata": {
    "collapsed": false
   },
   "outputs": [],
   "source": [
    "maxValues = []\n",
    "maxTimes = []\n",
    "times = sheet.col_values(0, start_rowx=1, end_rowx=None)\n",
    "headers = sheet.row_values(0, start_colx=0, end_colx=None)[1:]\n",
    "for colNum in range(1, 10):\n",
    "    colVals = sheet.col_values(colNum, start_rowx=1,\n",
    "                              end_rowx=None)\n",
    "    maxValues.append(max(colVals))\n",
    "    maxValIndex = colVals.index(max(colVals))\n",
    "    maxTimes.append(xlrd.xldate_as_tuple(times[maxValIndex + 1], 0))\n",
    "    "
   ]
  },
  {
   "cell_type": "code",
   "execution_count": 75,
   "metadata": {
    "collapsed": false
   },
   "outputs": [
    {
     "data": {
      "text/plain": [
       "[18779.025510000003,\n",
       " 2380.1654089999956,\n",
       " 2281.2722140000024,\n",
       " 1544.7707140000005,\n",
       " 24415.570226999993,\n",
       " 5494.157645,\n",
       " 11433.30491600001,\n",
       " 1862.6137649999998,\n",
       " 67595.81819800012]"
      ]
     },
     "execution_count": 75,
     "metadata": {},
     "output_type": "execute_result"
    }
   ],
   "source": [
    "maxValues"
   ]
  },
  {
   "cell_type": "code",
   "execution_count": 76,
   "metadata": {
    "collapsed": false
   },
   "outputs": [
    {
     "data": {
      "text/plain": [
       "[(2013, 8, 13, 18, 0, 0),\n",
       " (2013, 8, 5, 18, 0, 0),\n",
       " (2013, 6, 26, 18, 0, 0),\n",
       " (2013, 8, 7, 18, 0, 0),\n",
       " (2013, 8, 7, 19, 0, 0),\n",
       " (2013, 8, 8, 17, 0, 0),\n",
       " (2013, 8, 8, 19, 0, 0),\n",
       " (2013, 8, 7, 18, 0, 0),\n",
       " (2013, 8, 7, 18, 0, 0)]"
      ]
     },
     "execution_count": 76,
     "metadata": {},
     "output_type": "execute_result"
    }
   ],
   "source": [
    "maxTimes"
   ]
  },
  {
   "cell_type": "code",
   "execution_count": 77,
   "metadata": {
    "collapsed": false
   },
   "outputs": [
    {
     "data": {
      "text/plain": [
       "['COAST',\n",
       " 'EAST',\n",
       " 'FAR_WEST',\n",
       " 'NORTH',\n",
       " 'NORTH_C',\n",
       " 'SOUTHERN',\n",
       " 'SOUTH_C',\n",
       " 'WEST',\n",
       " 'ERCOT']"
      ]
     },
     "execution_count": 77,
     "metadata": {},
     "output_type": "execute_result"
    }
   ],
   "source": [
    "headers"
   ]
  },
  {
   "cell_type": "code",
   "execution_count": 1,
   "metadata": {
    "collapsed": false
   },
   "outputs": [
    {
     "ename": "NameError",
     "evalue": "name 'sheet' is not defined",
     "output_type": "error",
     "traceback": [
      "\u001b[0;31m---------------------------------------------------------------------------\u001b[0m",
      "\u001b[0;31mNameError\u001b[0m                                 Traceback (most recent call last)",
      "\u001b[0;32m<ipython-input-1-88812f339c5a>\u001b[0m in \u001b[0;36m<module>\u001b[0;34m()\u001b[0m\n\u001b[1;32m      2\u001b[0m \u001b[0mmaxTimes\u001b[0m \u001b[0;34m=\u001b[0m \u001b[0;34m[\u001b[0m\u001b[0;34m]\u001b[0m\u001b[0;34m\u001b[0m\u001b[0m\n\u001b[1;32m      3\u001b[0m \u001b[0mdata\u001b[0m \u001b[0;34m=\u001b[0m \u001b[0;34m[\u001b[0m\u001b[0;34m]\u001b[0m\u001b[0;34m\u001b[0m\u001b[0m\n\u001b[0;32m----> 4\u001b[0;31m \u001b[0mtimes\u001b[0m \u001b[0;34m=\u001b[0m \u001b[0msheet\u001b[0m\u001b[0;34m.\u001b[0m\u001b[0mcol_values\u001b[0m\u001b[0;34m(\u001b[0m\u001b[0;36m0\u001b[0m\u001b[0;34m,\u001b[0m \u001b[0mstart_rowx\u001b[0m\u001b[0;34m=\u001b[0m\u001b[0;36m1\u001b[0m\u001b[0;34m,\u001b[0m \u001b[0mend_rowx\u001b[0m\u001b[0;34m=\u001b[0m\u001b[0;32mNone\u001b[0m\u001b[0;34m)\u001b[0m\u001b[0;34m\u001b[0m\u001b[0m\n\u001b[0m\u001b[1;32m      5\u001b[0m \u001b[0mheaders\u001b[0m \u001b[0;34m=\u001b[0m \u001b[0msheet\u001b[0m\u001b[0;34m.\u001b[0m\u001b[0mrow_values\u001b[0m\u001b[0;34m(\u001b[0m\u001b[0;36m0\u001b[0m\u001b[0;34m,\u001b[0m \u001b[0mstart_colx\u001b[0m\u001b[0;34m=\u001b[0m\u001b[0;36m0\u001b[0m\u001b[0;34m,\u001b[0m \u001b[0mend_colx\u001b[0m\u001b[0;34m=\u001b[0m\u001b[0;32mNone\u001b[0m\u001b[0;34m)\u001b[0m\u001b[0;34m[\u001b[0m\u001b[0;36m1\u001b[0m\u001b[0;34m:\u001b[0m\u001b[0;36m9\u001b[0m\u001b[0;34m]\u001b[0m\u001b[0;34m\u001b[0m\u001b[0m\n\u001b[1;32m      6\u001b[0m \u001b[0;32mfor\u001b[0m \u001b[0mcolNum\u001b[0m \u001b[0;32min\u001b[0m \u001b[0mrange\u001b[0m\u001b[0;34m(\u001b[0m\u001b[0;36m1\u001b[0m\u001b[0;34m,\u001b[0m \u001b[0;36m9\u001b[0m\u001b[0;34m)\u001b[0m\u001b[0;34m:\u001b[0m\u001b[0;34m\u001b[0m\u001b[0m\n",
      "\u001b[0;31mNameError\u001b[0m: name 'sheet' is not defined"
     ]
    }
   ],
   "source": [
    "maxValues = []\n",
    "maxTimes = []\n",
    "data = []\n",
    "times = sheet.col_values(0, start_rowx=1, end_rowx=None)\n",
    "headers = sheet.row_values(0, start_colx=0, end_colx=None)[1:9]\n",
    "for colNum in range(1, 9):\n",
    "    colVals = sheet.col_values(colNum, start_rowx=1,\n",
    "                              end_rowx=None)\n",
    "    maxValues.append(max(colVals))\n",
    "    maxValIndex = colVals.index(max(colVals))\n",
    "    maxTimes.append(xlrd.xldate_as_tuple(times[maxValIndex], 0))\n",
    "for place, time, value in zip(headers, maxTimes, maxValues):\n",
    "    d = [place, time[0], time[1], time[2], time[3], value]\n",
    "    d = [*map(str, d)]\n",
    "    data.append(\"|\".join(d))\n",
    "\n",
    "for each in data:\n",
    "    print(each)"
   ]
  },
  {
   "cell_type": "code",
   "execution_count": 95,
   "metadata": {
    "collapsed": false
   },
   "outputs": [
    {
     "data": {
      "text/plain": [
       "{'a': 2}"
      ]
     },
     "execution_count": 95,
     "metadata": {},
     "output_type": "execute_result"
    }
   ],
   "source": [
    "{'a': 2}"
   ]
  },
  {
   "cell_type": "code",
   "execution_count": null,
   "metadata": {
    "collapsed": true
   },
   "outputs": [],
   "source": []
  }
 ],
 "metadata": {
  "kernelspec": {
   "display_name": "Python 3",
   "language": "python",
   "name": "python3"
  },
  "language_info": {
   "codemirror_mode": {
    "name": "ipython",
    "version": 3
   },
   "file_extension": ".py",
   "mimetype": "text/x-python",
   "name": "python",
   "nbconvert_exporter": "python",
   "pygments_lexer": "ipython3",
   "version": "3.6.0"
  }
 },
 "nbformat": 4,
 "nbformat_minor": 2
}
